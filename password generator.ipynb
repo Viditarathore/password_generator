{
 "cells": [
  {
   "cell_type": "code",
   "execution_count": 1,
   "id": "7352ae79",
   "metadata": {},
   "outputs": [
    {
     "name": "stdout",
     "output_type": "stream",
     "text": [
      "random password generator\n",
      "length of password5\n",
      "Random string of length 5 is: vHp'1\n",
      "length of password54\n",
      "Random string of length 54 is: &dm+(xU&dY*]f>-X4,F@}\"h8t*dyG[u#gvxC-Q\\2ND%t_s}||8/VEQ\n",
      "length of password10\n",
      "Random string of length 10 is: [UR}(@\\5&N\n"
     ]
    }
   ],
   "source": [
    "import random\n",
    "import string\n",
    "print(\"random password generator\")\n",
    "def get_random_string():\n",
    "    # choose from all lowercase letter\n",
    "    length =int (input(\"length of password\"))\n",
    "    # length =15\n",
    "    letters = string.ascii_letters + string.punctuation + string.digits\n",
    "    # result_str = ''.join(random.choice(letters) for i in range(length))\n",
    "    result_str = ''\n",
    "    for i in range(length):\n",
    "         result_str += random.choice(letters)\n",
    "    print(\"Random string of length\", length, \"is:\", result_str)\n",
    "\n",
    "get_random_string()\n",
    "get_random_string()\n",
    "get_random_string()\n"
   ]
  }
 ],
 "metadata": {
  "kernelspec": {
   "display_name": "Python 3 (ipykernel)",
   "language": "python",
   "name": "python3"
  },
  "language_info": {
   "codemirror_mode": {
    "name": "ipython",
    "version": 3
   },
   "file_extension": ".py",
   "mimetype": "text/x-python",
   "name": "python",
   "nbconvert_exporter": "python",
   "pygments_lexer": "ipython3",
   "version": "3.11.3"
  }
 },
 "nbformat": 4,
 "nbformat_minor": 5
}
